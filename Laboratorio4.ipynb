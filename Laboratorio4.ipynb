{
 "cells": [
  {
   "cell_type": "markdown",
   "id": "ce74113f-a0e9-43a9-93b0-a5430af0954b",
   "metadata": {},
   "source": [
    "# Alumno: Oscar Maurilio Vidal Torres\n",
    "# Laboratorio 4\n",
    "\n",
    "# Ejercicio 1\n",
    "# Números Pitagóricos: Tres números que satisfacen la relación  𝑎2+𝑏2=𝑐2  son llamados Numeros Pitagóricos. Realice un programa que calcule todos los números pitagóricos menores que un número máximo.\n"
   ]
  },
  {
   "cell_type": "code",
   "execution_count": 1,
   "id": "86755653-c6f7-4bc0-a304-c57919747579",
   "metadata": {},
   "outputs": [
    {
     "name": "stdin",
     "output_type": "stream",
     "text": [
      "¿Cuál es el número máximo? :  10\n"
     ]
    },
    {
     "name": "stdout",
     "output_type": "stream",
     "text": [
      "Total de ternas que satisfacen la relación de números pitágoricos: 4\n",
      "(3, 4, 5)\n",
      "(4, 3, 5)\n",
      "(6, 8, 10)\n",
      "(8, 6, 10)\n"
     ]
    }
   ],
   "source": [
    "#Alumno: Oscar Maurilio Vidal Torres\n",
    "#Ejercicio 1\n",
    "#Números Pitagóricos: Tres números que satisfacen la relación  𝑎2+𝑏2=𝑐2  son llamados Numeros Pitagóricos. Realice un programa que calcule todos los números pitagóricos menores que un número máximo.\n",
    "maximo = int(input('¿Cuál es el número máximo? : '))\n",
    "limiteSuperior = maximo**2\n",
    "ternas = []\n",
    "for a in range(1,limiteSuperior):\n",
    "    for b in range(1,limiteSuperior):\n",
    "        for c in range(1,limiteSuperior):\n",
    "            if (a**2 + b**2 == c**2):\n",
    "                if (c<=maximo):\n",
    "                    ternas.append((a,b,c))\n",
    "    \n",
    "print('Total de ternas que satisfacen la relación de números pitágoricos:', len(ternas))\n",
    "for t in ternas:\n",
    "    print(t)"
   ]
  },
  {
   "cell_type": "markdown",
   "id": "414da5c0-a740-4f50-be91-86764a3f03d2",
   "metadata": {},
   "source": [
    "# Ejercicio 2\n",
    "# Sucesión de Fibonacci: En matemática, la  Sucesión   de   Fibonacci  es la siguiente sucesión infinita de números naturales:  0,1,1,2,3,5,8,13,21,... . La sucesión comienza con los números  0  y  1  y a partir de estos, «cada término es la suma de los dos anteriores», es la relación de recurrencia que la define. Realice un programa que entregue los primeros  𝑛  números de la  Sucesión   de   Fibonacci . Realice ambos programas con for y while.11\n"
   ]
  },
  {
   "cell_type": "code",
   "execution_count": 2,
   "id": "57277ff8-65a8-44de-b9b2-567468b6fd9c",
   "metadata": {},
   "outputs": [
    {
     "name": "stdin",
     "output_type": "stream",
     "text": [
      "Cuántos números fibonnaci deseas:  11\n"
     ]
    },
    {
     "name": "stdout",
     "output_type": "stream",
     "text": [
      "Secuencia Fibonacci : \n",
      "0\n",
      "1\n",
      "1\n",
      "2\n",
      "3\n",
      "5\n",
      "8\n",
      "13\n",
      "21\n",
      "34\n",
      "55\n"
     ]
    }
   ],
   "source": [
    "#Alumno: Oscar Maurilio Vidal Torres\n",
    "#Ejercicio 2\n",
    "#Sucesión de Fibonacci: En matemática, la  Sucesión   de   Fibonacci  es la siguiente sucesión infinita de números naturales:  0,1,1,2,3,5,8,13,21,... . La sucesión comienza con los números  0  y  1  y a partir de estos, «cada término es la suma de los dos anteriores», es la relación de recurrencia que la define. Realice un programa que entregue los primeros  𝑛  números de la  Sucesión   de   Fibonacci . Realice ambos programas con for y while. Cuál sería la diferencia?\n",
    "#con while\n",
    "n=int(input(\"Cuántos números fibonnaci deseas: \"))\n",
    "\n",
    "first=0\n",
    "second=1\n",
    "sum=0\n",
    "count=1\n",
    "print(\"Secuencia Fibonacci : \")\n",
    "# solo debe iterar hasta n.\n",
    "while(count<=n):    \n",
    "  print(sum)\n",
    "  count+=1\n",
    "  first=second\n",
    "  second=sum\n",
    "  sum=first+second\t"
   ]
  },
  {
   "cell_type": "code",
   "execution_count": 3,
   "id": "24b8f998-68c1-4e39-9077-45f7e78e2eb2",
   "metadata": {},
   "outputs": [
    {
     "name": "stdin",
     "output_type": "stream",
     "text": [
      "Cuántos números fibonnaci deseas:  11\n"
     ]
    },
    {
     "name": "stdout",
     "output_type": "stream",
     "text": [
      "secuencia Fibonacci : \n",
      "0\n",
      "1\n",
      "1\n",
      "2\n",
      "3\n",
      "5\n",
      "8\n",
      "13\n",
      "21\n",
      "34\n",
      "55\n"
     ]
    }
   ],
   "source": [
    "#Calcular  Fibonacci con for\n",
    "n=int(input(\"Cuántos números fibonnaci deseas: \"))\n",
    "\n",
    "first=0\n",
    "second=1\n",
    "sum=0\n",
    "count=1\n",
    "print(\"secuencia Fibonacci : \")\n",
    "# Iterar solo hasta n.\n",
    "for i in range(n):    \n",
    "  print(sum)\n",
    "  count+=1\n",
    "  first=second\n",
    "  second=sum\n",
    "  sum=first+second\t"
   ]
  },
  {
   "cell_type": "markdown",
   "id": "8f7a1f8e-c72b-4248-992b-bdfafafd16df",
   "metadata": {},
   "source": [
    "Con For los ciclos son más controlados, y hay un mejor performance, ya que desde el momento de declarar el for se sabe el número de iterciones a realizar"
   ]
  },
  {
   "cell_type": "markdown",
   "id": "7647972f-bb66-46dd-aec8-b34347d4f21c",
   "metadata": {},
   "source": [
    "# Ejercicio 3 En el ejercicio del cálculo del área por el método de Herón, implemente la desigualdad triangular: \"En todo triángulo la suma de las longitudes de dos lados cualquiera es siempre mayor a la longitud del lado restante\". Implemente también un criterio que evite el ingreso de valores negativos de alguno de los lados.\n"
   ]
  },
  {
   "cell_type": "code",
   "execution_count": 5,
   "id": "d7488a30-760a-490c-acc8-f29185e13803",
   "metadata": {},
   "outputs": [
    {
     "name": "stdin",
     "output_type": "stream",
     "text": [
      "Ingresa el lado a (solo enteros positivos):  10\n",
      "Ingresa el lado b (solo enteros positivos):  11\n",
      "Ingresa el lado c (solo enteros positivos):  21\n"
     ]
    },
    {
     "name": "stdout",
     "output_type": "stream",
     "text": [
      "Cumple con la desigualdad triangular\n"
     ]
    }
   ],
   "source": [
    "\n",
    "#En el ejercicio del cálculo del área por el método de Herón, implemente la desigualdad triangular: \"En todo triángulo la suma de las longitudes de dos lados cualquiera es siempre mayor a la longitud del lado restante\". Implemente también un criterio que evite el ingreso de valores negativos de alguno de los lados.\n",
    "\n",
    "desigual = 0\n",
    "\n",
    "lado1 = int(input(\"Ingresa el lado a (solo enteros positivos): \"))\n",
    "while(lado1<=0): \n",
    "    lado1 = int(input(\"Ingresa el lado a (solo enteros positivos): \"))\n",
    "\n",
    "lado2 = int(input(\"Ingresa el lado b (solo enteros positivos): \"))\n",
    "while(lado2<=0): \n",
    "    lado2 = int(input(\"Ingresa el lado b (solo enteros positivos): \"))\n",
    "    \n",
    "lado3 = int(input(\"Ingresa el lado c (solo enteros positivos): \"))\n",
    "while(lado3<=0): \n",
    "    lado3 = int(input(\"Ingresa el lado c (solo enteros positivos): \"))\n",
    "\n",
    "if (lado1 + lado2) < lado3:\n",
    "    desigual = desigual + 1         \n",
    "\n",
    "if (lado1 + lado3) < lado2:\n",
    "    desigual = desigual + 1\n",
    "\n",
    "if (lado2 + lado3) < lado1:\n",
    "    desigual = desigual + 1\n",
    "\n",
    "if desigual > 0:\n",
    "    print(\"No cumple con la desigualdad triangular \")\n",
    "else:\n",
    "    print(\"Cumple con la desigualdad triangular\") "
   ]
  },
  {
   "cell_type": "markdown",
   "id": "668cce7d-62fe-481b-a78a-094383219af3",
   "metadata": {},
   "source": [
    "# Ejercicio 4 Suma según Gauss: Realizar un programa que calcule la suma de los 100 primeros números, pero como fue realizado por Gauss según la leyenda."
   ]
  },
  {
   "cell_type": "code",
   "execution_count": 4,
   "id": "ebab69f3-1675-4ede-953e-de0af90f8893",
   "metadata": {},
   "outputs": [
    {
     "name": "stdout",
     "output_type": "stream",
     "text": [
      "El resultado de la suma de los 100 primeros números según Gauss es:\n",
      "5050.0\n"
     ]
    }
   ],
   "source": [
    "#Suma según Gauss: Realizar un programa que calcule la suma de los 100 primeros números, pero como fue realizado por Gauss según la leyenda.\n",
    "n= 100\n",
    "        \n",
    "suma = n* (n+1)/2\n",
    "print('El resultado de la suma de los 100 primeros números según Gauss es:')\n",
    "print (suma)"
   ]
  },
  {
   "cell_type": "code",
   "execution_count": null,
   "id": "2b49c5e5-483f-4485-8f33-11788d554d1e",
   "metadata": {},
   "outputs": [],
   "source": []
  },
  {
   "cell_type": "code",
   "execution_count": null,
   "id": "f90f5a57-e3cc-4fda-bce5-07904c012bbc",
   "metadata": {},
   "outputs": [],
   "source": []
  }
 ],
 "metadata": {
  "kernelspec": {
   "display_name": "Python 3 (ipykernel)",
   "language": "python",
   "name": "python3"
  },
  "language_info": {
   "codemirror_mode": {
    "name": "ipython",
    "version": 3
   },
   "file_extension": ".py",
   "mimetype": "text/x-python",
   "name": "python",
   "nbconvert_exporter": "python",
   "pygments_lexer": "ipython3",
   "version": "3.9.12"
  }
 },
 "nbformat": 4,
 "nbformat_minor": 5
}
