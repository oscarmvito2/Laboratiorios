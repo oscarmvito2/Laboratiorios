{
 "cells": [
  {
   "cell_type": "markdown",
   "id": "464c2873-4777-4570-ac24-9cb72ae945c3",
   "metadata": {},
   "source": [
    "# Alumno: Oscar Maurilio Vidal Torres\n",
    "# Laboratorio 3\n",
    "# Ejercicio 1. Ejecutar las siguientes sentencias de asignación:\n"
   ]
  },
  {
   "cell_type": "code",
   "execution_count": 2,
   "id": "330b58f1-2cbd-4cab-9c13-5432c5b4095f",
   "metadata": {},
   "outputs": [
    {
     "name": "stdout",
     "output_type": "stream",
     "text": [
      "El resultado de  ( ancho / 2.0)  es 8.500000 y es del tipo <class 'float'>\n",
      "El resultado de  ( alto / 3)  es 4.000000 y es del tipo <class 'float'>\n",
      "El resultado de   ( 1 + 2 * 5)  es 11.000000 y es del tipo <class 'int'>\n",
      "El resultado de   ( delimitador * 5)  es ..... y es del tipo <class 'str'>\n"
     ]
    }
   ],
   "source": [
    "#Alumno: Oscar Maurilio Vidal Torres\n",
    "#Ejercicio 1. Queremos ejecutar las siguientes sentencias de asignación:\n",
    "\n",
    "#ancho = 17\n",
    "#alto = 12.0\n",
    "#delimitador = \".\"\n",
    "#Para cada una de las siguentes expresiones, escriba el valor de la expresión y el tipo (del valor de la expresión)\n",
    "\n",
    "#ancho / 2#\n",
    "#ancho / 2#.0\n",
    "#alto / 3\n",
    "#1 + 2 * #5\n",
    "#delimita#dor * 5\n",
    "\n",
    "ancho = 17\n",
    "alto = 12.0\n",
    "delimitador = \".\"\n",
    "resAncho =  ( ancho / 2.0)\n",
    "resAlto = ( alto / 3)\n",
    "resOpArit = ( 1 + 2 * 5)\n",
    "resMulti = ( delimitador * 5)\n",
    "\n",
    "print(\"El resultado de  ( ancho / 2.0)  es %f y es del tipo %s\" % (resAncho, type(resAncho)) )\n",
    "print(\"El resultado de  ( alto / 3)  es %f y es del tipo %s\" % (resAlto, type(resAlto)) )\n",
    "print(\"El resultado de   ( 1 + 2 * 5)  es %f y es del tipo %s\" % (resOpArit, type(resOpArit)) )\n",
    "print(\"El resultado de   ( delimitador * 5)  es %s y es del tipo %s\" % (resMulti, type(resMulti)) )"
   ]
  },
  {
   "cell_type": "markdown",
   "id": "75c7038e-1dd4-4285-94cf-5dd7fbbb6846",
   "metadata": {},
   "source": [
    "# Ejercicio 2. El volumen de una esfera de radio  𝑟  es  43𝜋𝑟3 . ¿Cuál es el volúmen de una esfera de radio 5?\n"
   ]
  },
  {
   "cell_type": "code",
   "execution_count": 3,
   "id": "08ba0753-290b-4272-afb2-5aa8b6919ff8",
   "metadata": {},
   "outputs": [
    {
     "name": "stdout",
     "output_type": "stream",
     "text": [
      "El volumen de una esfera de radio  𝑟  es  4/3𝜋𝑟^3 . ¿Cuál es el volúmen de una esfera de radio 5:? 523.600000\n"
     ]
    }
   ],
   "source": [
    "#Alumno: Oscar Maurilio Vidal Torres\n",
    "#Ejercicio 2. El volumen de una esfera de radio  𝑟  es  43𝜋𝑟3 . Cuál es el volúmen de una esfera de radio 5?\n",
    "radio = 5\n",
    "pi = 3.1416\n",
    "\n",
    "resRadio  = (4 / 3)*pi*(radio**3)\n",
    "\n",
    "print(\"El volumen de una esfera de radio  𝑟  es  4/3𝜋𝑟^3 . ¿Cuál es el volúmen de una esfera de radio 5:? %f\"  %(resRadio))\n",
    "\n"
   ]
  },
  {
   "cell_type": "markdown",
   "id": "167f6836-4e3e-4a06-853d-e2b2669be5a8",
   "metadata": {},
   "source": [
    "# Ejercicio 3. Suponga que el precio de un libro es de 57.500 y la librería tiene un 40% de descuento. Los costos de envío son  5.500  para la primera copia y  1.500  por cada copia adicional. Cuál es el costo total de 60 copias?"
   ]
  },
  {
   "cell_type": "code",
   "execution_count": 4,
   "id": "031bc167-47d4-4457-9ee2-a5711402243c",
   "metadata": {},
   "outputs": [
    {
     "name": "stdout",
     "output_type": "stream",
     "text": [
      "Costo total es: 2164.000000\n"
     ]
    }
   ],
   "source": [
    "#Alumno: Oscar Maurilio Vidal Torres\n",
    "#Ejercicio 3. Suponga que el precio de un libro es de 57.500 y la librería tiene un 40% de descuento. Los costos de envío son  5.500  para la primera copia y  1.500  por cada copia adicional. Cuál es el costo total de 60 copias?\n",
    "precioLibro = 57.500\n",
    "descuento = 0.4\n",
    "precioConDescuentoLibro = precioLibro - (precioLibro * descuento)\n",
    "costoEnvioPrimerCopia = 5.500\n",
    "costoEnvioCopiaAdicional = 1.500\n",
    "costoLibros = 60 * precioConDescuentoLibro\n",
    "costoTotalEnvioCopiasAdicionales = costoEnvioCopiaAdicional * 59\n",
    "costoTotalEnvio = costoTotalEnvioCopiasAdicionales + costoEnvioPrimerCopia\n",
    "costoTotal =  costoLibros + costoTotalEnvio\n",
    "print ('Costo total es: %f' %costoTotal)\n"
   ]
  },
  {
   "cell_type": "markdown",
   "id": "c0e7d17e-796a-4360-94c5-6adb12e44767",
   "metadata": {},
   "source": [
    "# Ejercicio 4. Haga un programa en Python que calcule el área del triángulo empleando la fórmula de Herón y usando única y exclusivamente los comandos vistos hasta el momento.\n"
   ]
  },
  {
   "cell_type": "code",
   "execution_count": 6,
   "id": "f4784439-b49f-4018-aa44-569ab2057dff",
   "metadata": {},
   "outputs": [
    {
     "name": "stdin",
     "output_type": "stream",
     "text": [
      "Valor de a 11\n",
      "Valor de b 12\n",
      "Valor de c 14\n"
     ]
    },
    {
     "name": "stdout",
     "output_type": "stream",
     "text": [
      "El área del triángulo es: 63.705867\n"
     ]
    }
   ],
   "source": [
    "#Alumno: Oscar Maurilio Vidal Torres\n",
    "#Ejercicio 4. Haga un programa en Python que calcule el área del triángulo empleando la fórmula de Herón y usando única y exclusivamente los comandos vistos hasta el momento.\n",
    "a = float(input(\"Valor de a\"))\n",
    "b = float(input(\"Valor de b\"))\n",
    "c = float(input(\"Valor de c\"))\n",
    "s = (a +b +c)/2\n",
    "sAntesRaiz = s*(s-a)*(s-b)*(s-c)\n",
    "sDespuesRaiz = sAntesRaiz**.5     \n",
    "print ('El área del triángulo es: %f'%sDespuesRaiz)"
   ]
  },
  {
   "cell_type": "code",
   "execution_count": null,
   "id": "7f68cc9d-1de7-47d1-9730-a29ddb9be527",
   "metadata": {},
   "outputs": [],
   "source": []
  }
 ],
 "metadata": {
  "kernelspec": {
   "display_name": "Python 3 (ipykernel)",
   "language": "python",
   "name": "python3"
  },
  "language_info": {
   "codemirror_mode": {
    "name": "ipython",
    "version": 3
   },
   "file_extension": ".py",
   "mimetype": "text/x-python",
   "name": "python",
   "nbconvert_exporter": "python",
   "pygments_lexer": "ipython3",
   "version": "3.9.12"
  }
 },
 "nbformat": 4,
 "nbformat_minor": 5
}
